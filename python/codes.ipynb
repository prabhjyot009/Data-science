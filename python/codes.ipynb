{
 "cells": [
  {
   "cell_type": "markdown",
   "id": "e7df3270",
   "metadata": {},
   "source": [
    "Basics of python coding"
   ]
  },
  {
   "cell_type": "code",
   "execution_count": null,
   "id": "ea58f251",
   "metadata": {},
   "outputs": [],
   "source": [
    "x"
   ]
  }
 ],
 "metadata": {
  "language_info": {
   "name": "python"
  }
 },
 "nbformat": 4,
 "nbformat_minor": 5
}
